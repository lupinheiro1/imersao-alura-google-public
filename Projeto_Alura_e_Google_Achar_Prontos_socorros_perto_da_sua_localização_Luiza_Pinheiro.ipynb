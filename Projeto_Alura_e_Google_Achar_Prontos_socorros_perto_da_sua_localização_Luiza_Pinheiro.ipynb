{
  "nbformat": 4,
  "nbformat_minor": 0,
  "metadata": {
    "colab": {
      "provenance": [],
      "authorship_tag": "ABX9TyOvmpDYLGtryp8mC2i6n83t",
      "include_colab_link": true
    },
    "kernelspec": {
      "name": "python3",
      "display_name": "Python 3"
    },
    "language_info": {
      "name": "python"
    }
  },
  "cells": [
    {
      "cell_type": "markdown",
      "metadata": {
        "id": "view-in-github",
        "colab_type": "text"
      },
      "source": [
        "<a href=\"https://colab.research.google.com/github/lupinheiro1/imersao-alura-google-public/blob/main/Projeto_Alura_e_Google_Achar_Prontos_socorros_perto_da_sua_localiza%C3%A7%C3%A3o_Luiza_Pinheiro.ipynb\" target=\"_parent\"><img src=\"https://colab.research.google.com/assets/colab-badge.svg\" alt=\"Open In Colab\"/></a>"
      ]
    },
    {
      "cell_type": "code",
      "execution_count": 1,
      "metadata": {
        "colab": {
          "base_uri": "https://localhost:8080/"
        },
        "id": "7gcLaHpRCMD4",
        "outputId": "cf4461c6-dc54-43c2-e8cd-9bed16af731b"
      },
      "outputs": [
        {
          "output_type": "stream",
          "name": "stdout",
          "text": [
            "  Preparing metadata (setup.py) ... \u001b[?25l\u001b[?25hdone\n",
            "\u001b[2K   \u001b[90m━━━━━━━━━━━━━━━━━━━━━━━━━━━━━━━━━━━━━━━━\u001b[0m \u001b[32m1.2/1.2 MB\u001b[0m \u001b[31m19.3 MB/s\u001b[0m eta \u001b[36m0:00:00\u001b[0m\n",
            "\u001b[2K   \u001b[90m━━━━━━━━━━━━━━━━━━━━━━━━━━━━━━━━━━━━━━━━\u001b[0m \u001b[32m232.1/232.1 kB\u001b[0m \u001b[31m19.1 MB/s\u001b[0m eta \u001b[36m0:00:00\u001b[0m\n",
            "\u001b[2K   \u001b[90m━━━━━━━━━━━━━━━━━━━━━━━━━━━━━━━━━━━━━━━━\u001b[0m \u001b[32m95.2/95.2 kB\u001b[0m \u001b[31m6.0 MB/s\u001b[0m eta \u001b[36m0:00:00\u001b[0m\n",
            "\u001b[2K   \u001b[90m━━━━━━━━━━━━━━━━━━━━━━━━━━━━━━━━━━━━━━━━\u001b[0m \u001b[32m217.1/217.1 kB\u001b[0m \u001b[31m14.6 MB/s\u001b[0m eta \u001b[36m0:00:00\u001b[0m\n",
            "\u001b[2K   \u001b[90m━━━━━━━━━━━━━━━━━━━━━━━━━━━━━━━━━━━━━━━━\u001b[0m \u001b[32m334.1/334.1 kB\u001b[0m \u001b[31m24.5 MB/s\u001b[0m eta \u001b[36m0:00:00\u001b[0m\n",
            "\u001b[2K   \u001b[90m━━━━━━━━━━━━━━━━━━━━━━━━━━━━━━━━━━━━━━━━\u001b[0m \u001b[32m125.1/125.1 kB\u001b[0m \u001b[31m10.4 MB/s\u001b[0m eta \u001b[36m0:00:00\u001b[0m\n",
            "\u001b[2K   \u001b[90m━━━━━━━━━━━━━━━━━━━━━━━━━━━━━━━━━━━━━━━━\u001b[0m \u001b[32m65.8/65.8 kB\u001b[0m \u001b[31m5.3 MB/s\u001b[0m eta \u001b[36m0:00:00\u001b[0m\n",
            "\u001b[2K   \u001b[90m━━━━━━━━━━━━━━━━━━━━━━━━━━━━━━━━━━━━━━━━\u001b[0m \u001b[32m119.0/119.0 kB\u001b[0m \u001b[31m9.4 MB/s\u001b[0m eta \u001b[36m0:00:00\u001b[0m\n",
            "\u001b[2K   \u001b[90m━━━━━━━━━━━━━━━━━━━━━━━━━━━━━━━━━━━━━━━━\u001b[0m \u001b[32m194.9/194.9 kB\u001b[0m \u001b[31m12.4 MB/s\u001b[0m eta \u001b[36m0:00:00\u001b[0m\n",
            "\u001b[2K   \u001b[90m━━━━━━━━━━━━━━━━━━━━━━━━━━━━━━━━━━━━━━━━\u001b[0m \u001b[32m62.5/62.5 kB\u001b[0m \u001b[31m5.4 MB/s\u001b[0m eta \u001b[36m0:00:00\u001b[0m\n",
            "\u001b[2K   \u001b[90m━━━━━━━━━━━━━━━━━━━━━━━━━━━━━━━━━━━━━━━━\u001b[0m \u001b[32m103.3/103.3 kB\u001b[0m \u001b[31m8.0 MB/s\u001b[0m eta \u001b[36m0:00:00\u001b[0m\n",
            "\u001b[2K   \u001b[90m━━━━━━━━━━━━━━━━━━━━━━━━━━━━━━━━━━━━━━━━\u001b[0m \u001b[32m44.4/44.4 kB\u001b[0m \u001b[31m3.5 MB/s\u001b[0m eta \u001b[36m0:00:00\u001b[0m\n",
            "\u001b[2K   \u001b[90m━━━━━━━━━━━━━━━━━━━━━━━━━━━━━━━━━━━━━━━━\u001b[0m \u001b[32m72.0/72.0 kB\u001b[0m \u001b[31m6.4 MB/s\u001b[0m eta \u001b[36m0:00:00\u001b[0m\n",
            "\u001b[?25h  Building wheel for googlemaps (setup.py) ... \u001b[?25l\u001b[?25hdone\n"
          ]
        }
      ],
      "source": [
        "!pip -q install google-genai google-adk googlemaps"
      ]
    },
    {
      "cell_type": "code",
      "source": [
        "import os\n",
        "from google.colab import userdata\n",
        "os.environ [\"GOOGLE_API_KEY\"] = userdata.get('GOOGLE_API_KEY')\n",
        "\n",
        "MAPS_API_KEY = userdata.get('MinhaAPIKeyImersao')"
      ],
      "metadata": {
        "id": "RZel_shWC70u"
      },
      "execution_count": 17,
      "outputs": []
    },
    {
      "cell_type": "code",
      "source": [
        "from google import genai\n",
        "\n",
        "client = genai.Client()\n",
        "\n",
        "MODEL_ID = \"gemini-2.0-flash\""
      ],
      "metadata": {
        "id": "PDdWyQg-DBYv"
      },
      "execution_count": 3,
      "outputs": []
    },
    {
      "cell_type": "code",
      "source": [
        "from google.adk.agents import Agent\n",
        "from google.adk.runners import Runner\n",
        "from google.adk.sessions import InMemorySessionService\n",
        "from google.adk.tools import google_search\n",
        "from google.genai import types\n",
        "from IPython.display import display, Markdown\n",
        "import textwrap\n",
        "import googlemaps\n",
        "gmaps = googlemaps.Client(key=MAPS_API_KEY)"
      ],
      "metadata": {
        "id": "Ggnn5lwmDKkm"
      },
      "execution_count": 21,
      "outputs": []
    },
    {
      "cell_type": "code",
      "source": [
        "# --- Funções Auxiliares ---\n",
        "def call_agent(agent: Agent, message_text: str) -> str:\n",
        "    session_service = InMemorySessionService()\n",
        "    session = session_service.create_session(app_name=agent.name, user_id=\"user1\", session_id=\"session1\")\n",
        "    runner = Runner(agent=agent, app_name=agent.name, session_service=session_service)\n",
        "    content = types.Content(role=\"user\", parts=[types.Part(text=message_text)])\n",
        "\n",
        "    final_response = \"\"\n",
        "    for event in runner.run(user_id=\"user1\", session_id=\"session1\", new_message=content):\n",
        "        if event.is_final_response():\n",
        "            for part in event.content.parts:\n",
        "                if part.text is not None:\n",
        "                    final_response += part.text\n",
        "            final_response += \"\\n\"\n",
        "    return final_response\n",
        "\n",
        "def to_markdown(text): # Função auxiliar para exibir Markdown\n",
        "    text = text.replace('•', '  *')\n",
        "    return Markdown(textwrap.indent(text, '', predicate=lambda line: True))"
      ],
      "metadata": {
        "id": "oFw5eP7TFxjw"
      },
      "execution_count": 7,
      "outputs": []
    },
    {
      "cell_type": "code",
      "source": [
        "# --- Agente 1: Coletor de Dados de Saúde ---\n",
        "def agente_coletor_saude(localizacao_usuario, raio_busca=20000):\n",
        "    print(f\"--- Agente Coletor de Saúde: Buscando pronto-socorros próximos a '{localizacao_usuario}' ---\")\n",
        "\n",
        "    try:\n",
        "        places_result = gmaps.places(query='pronto-socorro', location=localizacao_usuario, radius=raio_busca, language='pt-BR')\n",
        "\n",
        "        pronto_socorros = []\n",
        "        for place in places_result['results']:\n",
        "            nome = place.get('name', 'Nome não disponível')\n",
        "            endereco = place.get('formatted_address', 'Endereço não disponível')\n",
        "            avaliacao = place.get('rating', 'Sem avaliação')\n",
        "            place_id = place.get('place_id')\n",
        "\n",
        "            telefone = 'Não disponível'\n",
        "            if place_id:\n",
        "                details = gmaps.place(place_id=place_id, fields=['international_phone_number'])\n",
        "                telefone = details['result'].get('international_phone_number', 'Não disponível')\n",
        "\n",
        "            lotacao = \"Não disponível via API pública\"\n",
        "            # Para o MVP, mas a ideia é conseguirmos icluir esse dado, pois é fundamental na decisão das mães\n",
        "\n",
        "            pronto_socorros.append({\n",
        "                'nome': nome,\n",
        "                'endereco': endereco,\n",
        "                'telefone': telefone,\n",
        "                'avaliacao': avaliacao,\n",
        "                'lotacao': lotacao,\n",
        "                'place_id': place_id\n",
        "            })\n",
        "\n",
        "        return pronto_socorros\n",
        "\n",
        "    except Exception as e:\n",
        "        print(f\"Erro no Agente Coletor de Saúde: {e}\")\n",
        "        return []"
      ],
      "metadata": {
        "id": "uNK2GfteF-Db"
      },
      "execution_count": 8,
      "outputs": []
    },
    {
      "cell_type": "code",
      "source": [
        "# --- Agente 2: Buscador de Convênios (Agente google-adk) ---\n",
        "def agente_buscador_convenios(nome_hospital):\n",
        "    print(f\"\\n--- Agente Buscador de Convênios: Buscando convênios para '{nome_hospital}' ---\")\n",
        "\n",
        "    buscador_convenios = Agent(\n",
        "        name=\"agente_buscador_convenios\",\n",
        "        model=MODEL_ID,\n",
        "        instruction=f\"\"\"Você é um assistente especializado em encontrar informações sobre convênios médicos.\n",
        "        Sua tarefa é usar a ferramenta de busca do google (google_search) para pesquisar quais convênios o hospital '{nome_hospital}' aceita.\n",
        "        Retorne as informações mais relevantes que você encontrar, incluindo links para páginas oficiais ou de convênios do hospital.\n",
        "        Seja conciso, mas informativo.\n",
        "        \"\"\",\n",
        "        description=\"Agente que busca informações de convênios aceitos por hospitais no Google.\",\n",
        "        tools=[google_search]\n",
        "    )\n",
        "\n",
        "    entrada_do_agente = f\"Quais convênios o hospital {nome_hospital} aceita?\"\n",
        "    resultado_busca_convenios = call_agent(buscador_convenios, entrada_do_agente)\n",
        "\n",
        "    return resultado_busca_convenios"
      ],
      "metadata": {
        "id": "yRvrCXgeH7bP"
      },
      "execution_count": 9,
      "outputs": []
    },
    {
      "cell_type": "code",
      "source": [
        "# --- Agente 3: Apresentador de Informações (Função Python Tradicional) ---\n",
        "def agente_apresentador_informacoes(hospitais_com_dados_completos):\n",
        "    print(\"\\n--- Agente Apresentador de Informações: Consolidando Resultados ---\")\n",
        "\n",
        "    if not hospitais_com_dados_completos:\n",
        "        print(\"Nenhum pronto-socorro encontrado ou processado.\")\n",
        "        return\n",
        "\n",
        "    markdown_output = \"\"\n",
        "    for i, hospital in enumerate(hospitais_com_dados_completos):\n",
        "        markdown_output += f\"### {i+1}. {hospital['nome']}\\n\"\n",
        "        markdown_output += f\"- **Endereço:** {hospital['endereco']}\\n\"\n",
        "        markdown_output += f\"- **Telefone:** {hospital['telefone']}\\n\"\n",
        "        markdown_output += f\"- **Avaliação (Google):** {hospital['avaliacao']}/5.0\\n\"\n",
        "        markdown_output += f\"- **Lotação:** {hospital['lotacao']}\\n\" # Placeholder por enquanto\n",
        "        markdown_output += f\"- **Convênios (Via Google Search):**\\n\"\n",
        "\n",
        "        # Aqui, o resultado_convenios já vem formatado pelo Agente 2\n",
        "        # É importante que o Agente 2 seja instruído a retornar algo legível\n",
        "        markdown_output += textwrap.indent(hospital['convenios_info'], '  ') + \"\\n\\n\"\n",
        "\n",
        "    display(to_markdown(markdown_output))"
      ],
      "metadata": {
        "id": "VKTh1FznIM_Z"
      },
      "execution_count": 10,
      "outputs": []
    },
    {
      "cell_type": "code",
      "source": [
        "# --- Lógica Principal de Execução ---\n",
        "if __name__ == \"__main__\":\n",
        "    localizacao_usuario = input(\"Por favor, digite sua localização com nome da cidade (ex: 'Praça Universitária, Setor Leste Universitário, Goiânia'): \")\n",
        "\n",
        "    # 1. Executa o Agente Coletor de Saúde (Agente 1)\n",
        "    pronto_socorros_iniciais = agente_coletor_saude(localizacao_teste)\n",
        "\n",
        "    hospitais_com_info_completa = []\n",
        "    if pronto_socorros_iniciais:\n",
        "        for hospital in pronto_socorros_iniciais:\n",
        "            # 2. Para cada hospital, executa o Agente Buscador de Convênios (Agente 2)\n",
        "            nome_hospital = hospital['nome']\n",
        "            convenios_info = agente_buscador_convenios(nome_hospital)\n",
        "\n",
        "            # Adiciona a informação de convênios ao dicionário do hospital\n",
        "            hospital['convenios_info'] = convenios_info\n",
        "            hospitais_com_info_completa.append(hospital)\n",
        "\n",
        "    # 3. Executa o Agente Apresentador de Informações (Agente 3)\n",
        "    agente_apresentador_informacoes(hospitais_com_info_completa)"
      ],
      "metadata": {
        "colab": {
          "base_uri": "https://localhost:8080/",
          "height": 831
        },
        "id": "JN5pan4KIW7U",
        "outputId": "8befe220-d056-4d12-d2a5-2a94b887ee2d"
      },
      "execution_count": 24,
      "outputs": [
        {
          "output_type": "stream",
          "name": "stdout",
          "text": [
            "Por favor, digite sua localização com nome da cidade (ex: 'Praça Universitária, Setor Leste Universitário, Goiânia'): Praça Universitária, Setor Leste Universitário, Goiânia, GO\n",
            "--- Agente Coletor de Saúde: Buscando pronto-socorros próximos a 'Praça universitaria setor leste universitario' ---\n",
            "\n",
            "--- Agente Buscador de Convênios: Buscando convênios para 'Complexo Hospitalar Padre Bento' ---\n",
            "\n",
            "--- Agente Buscador de Convênios: Buscando convênios para 'Pronto-Socorro do Hospital BP' ---\n",
            "\n",
            "--- Agente Apresentador de Informações: Consolidando Resultados ---\n"
          ]
        },
        {
          "output_type": "display_data",
          "data": {
            "text/plain": [
              "<IPython.core.display.Markdown object>"
            ],
            "text/markdown": "### 1. Complexo Hospitalar Padre Bento\n- **Endereço:** Av. Emílio Ribas, 1819 - Gopouva, Guarulhos - SP, 07051-000, Brasil\n- **Telefone:** +55 11 2463-5650\n- **Avaliação (Google):** 3.5/5.0\n- **Lotação:** Não disponível via API pública\n- **Convênios (Via Google Search):**\n  O Complexo Hospitalar Padre Bento em Guarulhos atende pelo Sistema Único de Saúde (SUS). Além disso, há informações sobre convênios e contratos específicos firmados pelo hospital com diversas entidades para gerenciamento de serviços e leitos, como o CEJAM.\n\n  Para informações mais precisas sobre quais planos de saúde são aceitos atualmente, é recomendável entrar em contato diretamente com o hospital.\n\n\n\n### 2. Pronto-Socorro do Hospital BP\n- **Endereço:** R. Maestro Cardim, 637 - Bela Vista, São Paulo - SP, 01323-001, Brasil\n- **Telefone:** +55 11 3505-1000\n- **Avaliação (Google):** 2.9/5.0\n- **Lotação:** Não disponível via API pública\n- **Convênios (Via Google Search):**\n  O Hospital BP (Beneficência Portuguesa) aceita diversos convênios médicos em seu pronto-socorro e demais unidades. Para verificar a cobertura do seu plano, você pode:\n\n  1.  **Consultar a lista de convênios atendidos no site da BP:** No site, você pode selecionar a unidade de atendimento (BP Mirante ou Hospital BP - Unidade Paulista) e verificar os convênios aceitos em cada uma delas.\n  2.  **Entrar em contato com a Central de Atendimento da BP:** O telefone para contato é (11) 3505-1000.\n  3.  **Verificar diretamente com a sua operadora de saúde:** Confirme se o seu plano oferece cobertura para os serviços que você precisa no Hospital BP.\n\n  Alguns dos convênios aceitos pelo Hospital BP incluem:\n\n  *   SulAmérica Saúde\n  *   Amil\n  *   Bradesco Saúde\n  *   Unimed\n  *   Allianz Saúde\n\n  Para obter uma lista mais completa e informações atualizadas, recomendo consultar os links fornecidos e entrar em contato diretamente com o hospital ou sua operadora de saúde.\n\n\n\n"
          },
          "metadata": {}
        }
      ]
    }
  ]
}